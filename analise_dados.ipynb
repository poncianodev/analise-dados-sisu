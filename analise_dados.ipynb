{
 "cells": [
  {
   "cell_type": "code",
   "execution_count": null,
   "metadata": {},
   "outputs": [],
   "source": [
    "import pandas as pd\n",
    "import matplotlib.pyplot as plt\n",
    "\n",
    "csv = pd.read_csv('lista_de_espera_sisu_2022_2.csv', encoding='latin-1', sep='|')\n",
    "\n",
    "cotas_raciais = csv[csv['TP_COTA'].str.contains('PPI', na=False)]\n",
    "\n",
    "candidatos_por_estado = cotas_raciais['UF_CANDIDATO'].value_counts()\n",
    "\n",
    "plt.figure(figsize=(10, 6))\n",
    "candidatos_por_estado.plot(kind='bar', color='skyblue')\n",
    "plt.title('Distribuição de Candidatos por Estado utilizando Cotas Raciais')\n",
    "plt.xlabel('Estado')\n",
    "plt.ylabel('Número de Candidatos')\n",
    "plt.savefig('candidatos_cotas_raciais_estado.png')\n",
    "plt.show()"
   ]
  },
  {
   "cell_type": "code",
   "execution_count": null,
   "metadata": {},
   "outputs": [],
   "source": [
    "# Contagem de candidatos por curso\n",
    "candidatos_por_curso = cotas_raciais['NOME_CURSO'].value_counts().head(10)  # Mostrando os 10 cursos mais populares\n",
    "\n",
    "# Gráfico 2: Cursos com Mais Inscrições Usando Cotas Raciais\n",
    "plt.figure(figsize=(10, 6))\n",
    "candidatos_por_curso.plot(kind='bar', color='lightgreen')\n",
    "plt.title('Cursos com Mais Inscrições Usando Cotas Raciais')\n",
    "plt.xlabel('Curso')\n",
    "plt.ylabel('Número de Inscrições')\n",
    "plt.xticks(rotation=45, ha=\"right\")\n",
    "plt.savefig('cursos_cotas_raciais.png')\n",
    "plt.show()"
   ]
  },
  {
   "cell_type": "code",
   "execution_count": null,
   "metadata": {},
   "outputs": [],
   "source": [
    "from fpdf import FPDF\n",
    "\n",
    "pdf = FPDF()\n",
    "pdf.add_page()\n",
    "\n",
    "# título\n",
    "pdf.set_font(\"Arial\", size=16)\n",
    "pdf.cell(200, 10, txt=\"Análise das Cotas Raciais - SISU 2022\", ln=True, align='C')\n",
    "\n",
    "# introdução\n",
    "pdf.set_font(\"Arial\", size=12)\n",
    "pdf.ln(10)\n",
    "pdf.multi_cell(0, 10, txt=\"O SISU (Sistema de Seleção Unificada) é uma plataforma do governo brasileiro usada para selecionar estudantes para vagas em universidades públicas com base nas notas obtidas no ENEM (Exame Nacional do Ensino Médio). Os candidatos se inscrevem no sistema, escolhem cursos e instituições de ensino, e as vagas são preenchidas conforme as notas de corte, que variam de acordo com a demanda e o desempenho dos inscritos. Esta análise explora a distribuição de candidatos que se inscreveram utilizando cotas raciais no SISU 2022, divididos por estado e curso.\")\n",
    "\n",
    "# primeiro gráfico\n",
    "pdf.ln(10)\n",
    "pdf.image('candidatos_cotas_raciais_estado.png', x=10, w=190)\n",
    "pdf.ln(10)\n",
    "pdf.multi_cell(0, 10, txt=\"O gráfico acima mostra a distribuição de candidatos por estado que utilizaram cotas raciais para se inscrever. Podemos observar, que a maioria dos estudantes negros que utilizaram o SISU são do Rio de Janeiro, seguido por Bahia e Minas Gerais, que são estados onde a população negra é bem abrangente.\")\n",
    "\n",
    "# segundo gráfico\n",
    "pdf.add_page()\n",
    "pdf.image('cursos_cotas_raciais.png', x=10, w=190)\n",
    "pdf.ln(10)\n",
    "pdf.multi_cell(0, 10, txt=\"O gráfico acima mostra os cursos com o maior número de inscrições utilizando cotas raciais. Podemos observar que há uma grande escolha por cursos da área de saúde. Mas por que mesmo com tanto interesse desses jovens por esta área, é tão difícil encontrarmos médicos, dentistas ou nutricionistras negros?\")\n",
    "pdf.multi_cell(0, 10, txt=\"\")\n",
    "\n",
    "# conclusão\n",
    "pdf.add_page()\n",
    "pdf.set_font(\"Arial\", size=14)\n",
    "pdf.cell(200, 10, txt=\"Conclusão\", ln=True, align='C')\n",
    "pdf.ln(10)\n",
    "pdf.set_font(\"Arial\", size=12)\n",
    "pdf.multi_cell(0, 10, txt=\"Com base nos gráficos e análises realizados, podemos concluir que... (Adicione sua conclusão aqui)\")\n",
    "\n",
    "# salvando\n",
    "pdf.output(\"analise_cotas_raciais_sisu2022.pdf\")\n"
   ]
  }
 ],
 "metadata": {
  "kernelspec": {
   "display_name": "Python 3",
   "language": "python",
   "name": "python3"
  },
  "language_info": {
   "codemirror_mode": {
    "name": "ipython",
    "version": 3
   },
   "file_extension": ".py",
   "mimetype": "text/x-python",
   "name": "python",
   "nbconvert_exporter": "python",
   "pygments_lexer": "ipython3",
   "version": "3.12.5"
  }
 },
 "nbformat": 4,
 "nbformat_minor": 2
}
